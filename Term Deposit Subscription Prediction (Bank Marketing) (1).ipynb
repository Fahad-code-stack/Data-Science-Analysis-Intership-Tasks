{
 "cells": [
  {
   "cell_type": "code",
   "execution_count": null,
   "id": "19d05874-bee8-4f6d-adb9-3893820b5149",
   "metadata": {},
   "outputs": [],
   "source": [
    "!pip install shap"
   ]
  },
  {
   "cell_type": "code",
   "execution_count": null,
   "id": "ea74a340-e0d5-4153-8dcd-5a5b609f1a05",
   "metadata": {},
   "outputs": [],
   "source": [
    "import pandas as pd\n",
    "import numpy as np\n",
    "import matplotlib.pyplot as plt\n",
    "import seaborn as sns\n",
    "from sklearn.model_selection import train_test_split\n",
    "from sklearn.linear_model import LogisticRegression\n",
    "from sklearn.ensemble import RandomForestClassifier\n",
    "from sklearn.metrics import confusion_matrix, classification_report, roc_curve, auc, accuracy_score\n",
    "from sklearn.preprocessing import StandardScaler\n",
    "from sklearn.pipeline import Pipeline   \n",
    "import shap\n",
    "import os"
   ]
  },
  {
   "cell_type": "code",
   "execution_count": null,
   "id": "1c8152bc-dcd4-40e1-b573-5d1ec293e7c0",
   "metadata": {},
   "outputs": [],
   "source": [
    "# 1. Load Dataset\n",
    "df = pd.read_csv(r\"C:\\Users\\FARHAT\\Downloads\\bank+marketing\\bank-additional\\bank-additional\\bank-additional-full.csv\", sep=\";\")\n",
    "print(\"Initial shape:\", df.shape)\n",
    "print(\"Columns in dataset:\", df.columns.tolist())\n",
    "print(\"Target column unique values:\", df['y'].unique())"
   ]
  },
  {
   "cell_type": "code",
   "execution_count": null,
   "id": "87d909da-83c0-4b82-9e0f-67d2ef35f9f2",
   "metadata": {},
   "outputs": [],
   "source": [
    "# 2. Encode target\n",
    "if \"y\" not in df.columns:\n",
    "    raise ValueError(f\"Target column 'y' not found! Available columns: {df.columns.tolist()}\")\n",
    "\n",
    "# Clean and map target values\n",
    "df['y'] = df['y'].astype(str).str.strip().str.lower().map({'yes': 1, 'no': 0})\n",
    "\n",
    "# Drop rows with unmapped targets\n",
    "df = df.dropna(subset=['y'])\n",
    "df['y'] = df['y'].astype(int)\n",
    "\n",
    "print(\" Encoded target distribution:\\n\", df['y'].value_counts())\n"
   ]
  },
  {
   "cell_type": "code",
   "execution_count": null,
   "id": "135bc3c4-a17b-4540-80e2-e3f10b528e0e",
   "metadata": {},
   "outputs": [],
   "source": [
    "# 3. One-hot encode categorical variables\n",
    "df = pd.get_dummies(df, drop_first=True)"
   ]
  },
  {
   "cell_type": "code",
   "execution_count": null,
   "id": "16fc20ee-4cad-4488-9dfa-0a492a3bf74e",
   "metadata": {},
   "outputs": [],
   "source": [
    "#  Features and target\n",
    "X = df.drop(\"y\", axis=1)\n",
    "y = df[\"y\"].astype(int)\n",
    "print(\"Dataset after encoding:\", X.shape, y.shape)\n",
    "print(\"Target distribution:\\n\", y.value_counts())"
   ]
  },
  {
   "cell_type": "code",
   "execution_count": null,
   "id": "7c5f0199-768a-4d77-babd-101e178c617a",
   "metadata": {
    "scrolled": true
   },
   "outputs": [],
   "source": [
    "#4. Train-test split\n",
    "if len(y) == 0:\n",
    "    raise ValueError(\"Target y is empty after encoding. Check dataset!\")\n",
    "\n",
    "X_train, X_test, y_train, y_test = train_test_split(\n",
    "    X, y, test_size=0.2, random_state=42, stratify=y\n",
    ")\n",
    "\n",
    "print(\"Train size:\", X_train.shape, \"Test size:\", X_test.shape)\n"
   ]
  },
  {
   "cell_type": "code",
   "execution_count": null,
   "id": "8aa29928-13c2-4fce-9b2a-972f1b839ea9",
   "metadata": {},
   "outputs": [],
   "source": [
    "\n",
    "# 5. Train Models\n",
    "# Logistic Regression with Scaling Pipeline\n",
    "log_reg = Pipeline([\n",
    "    ('scaler', StandardScaler(with_mean=False)),  # works with sparse data\n",
    "    ('model', LogisticRegression(max_iter=2000, solver=\"lbfgs\"))\n",
    "])\n",
    "\n",
    "rf = RandomForestClassifier(n_estimators=200, random_state=42)\n",
    "\n",
    "# Train models\n",
    "log_reg.fit(X_train, y_train)\n",
    "rf.fit(X_train, y_train)\n",
    "\n",
    "# Predictions\n",
    "y_pred_lr = log_reg.predict(X_test)\n",
    "y_pred_rf = rf.predict(X_test)"
   ]
  },
  {
   "cell_type": "code",
   "execution_count": null,
   "id": "ab678685-efd3-480a-b182-ec31f88e4ec8",
   "metadata": {},
   "outputs": [],
   "source": [
    "# 6. Evaluation\n",
    "print(\"\\nLogistic Regression Results:\")\n",
    "print(\"Accuracy:\", accuracy_score(y_test, y_pred_lr))\n",
    "print(classification_report(y_test, y_pred_lr))\n",
    "\n",
    "print(\"\\nRandom Forest Results:\")\n",
    "print(\"Accuracy:\", accuracy_score(y_test, y_pred_rf))\n",
    "print(classification_report(y_test, y_pred_rf))\n",
    "\n",
    "# Create outputs folder\n",
    "os.makedirs(\"outputs\", exist_ok=True)\n",
    "\n",
    "# Confusion Matrix (Random Forest)\n",
    "cm = confusion_matrix(y_test, y_pred_rf)\n",
    "sns.heatmap(cm, annot=True, fmt=\"d\", cmap=\"Blues\")\n",
    "plt.title(\"Random Forest Confusion Matrix\")\n",
    "plt.savefig(\"outputs/confusion_matrix.png\")\n",
    "plt.close()"
   ]
  },
  {
   "cell_type": "code",
   "execution_count": null,
   "id": "ccc64497-63ed-4fe3-bbdc-187fc12414e3",
   "metadata": {},
   "outputs": [],
   "source": [
    "\n",
    "# ROC Curve (Random Forest)\n",
    "y_prob_rf = rf.predict_proba(X_test)[:, 1]\n",
    "fpr, tpr, _ = roc_curve(y_test, y_prob_rf)\n",
    "roc_auc = auc(fpr, tpr)\n",
    "plt.plot(fpr, tpr, label=f'RF AUC={roc_auc:.2f}')\n",
    "plt.plot([0, 1], [0, 1], 'r--')\n",
    "plt.xlabel(\"False Positive Rate\")\n",
    "plt.ylabel(\"True Positive Rate\")\n",
    "plt.title(\"ROC Curve\")\n",
    "plt.legend()\n",
    "plt.savefig(\"outputs/roc_curve.png\")\n",
    "plt.close()\n"
   ]
  },
  {
   "cell_type": "code",
   "execution_count": null,
   "id": "57a6a46d-984c-4bc1-bba9-863090c2761d",
   "metadata": {},
   "outputs": [],
   "source": [
    "# 7. SHAP Explainability\n",
    "explainer = shap.TreeExplainer(rf)\n",
    "shap_values = explainer.shap_values(X_test)\n",
    "\n",
    "# Summary Plot\n",
    "shap.summary_plot(shap_values[1], X_test, show=False)\n",
    "plt.savefig(\"outputs/shap_summary.png\", bbox_inches=\"tight\")\n",
    "plt.close()\n",
    "\n",
    "# Explain 5 predictions\n",
    "sample_idx = np.random.choice(X_test.index, 5, replace=False)\n",
    "for i in sample_idx:\n",
    "    shap.force_plot(\n",
    "        explainer.expected_value[1],\n",
    "        shap_values[1][X_test.index.get_loc(i)],\n",
    "        X_test.iloc[X_test.index.get_loc(i)],\n",
    "        matplotlib=True,\n",
    "        show=False\n",
    "    )\n",
    "    plt.savefig(f\"outputs/shap_explain_{i}.png\")\n",
    "    plt.close()\n",
    "\n",
    "print(\"\\n All outputs saved in 'outputs/' folder\")"
   ]
  },
  {
   "cell_type": "code",
   "execution_count": null,
   "id": "259f143b-4035-4610-83ab-e39dca74040f",
   "metadata": {},
   "outputs": [],
   "source": []
  },
  {
   "cell_type": "code",
   "execution_count": null,
   "id": "a46cdec2-c0ca-483d-91bd-87a79500d5bd",
   "metadata": {},
   "outputs": [],
   "source": []
  }
 ],
 "metadata": {
  "kernelspec": {
   "display_name": "Python 3 (ipykernel)",
   "language": "python",
   "name": "python3"
  },
  "language_info": {
   "codemirror_mode": {
    "name": "ipython",
    "version": 3
   },
   "file_extension": ".py",
   "mimetype": "text/x-python",
   "name": "python",
   "nbconvert_exporter": "python",
   "pygments_lexer": "ipython3",
   "version": "3.12.7"
  }
 },
 "nbformat": 4,
 "nbformat_minor": 5
}
