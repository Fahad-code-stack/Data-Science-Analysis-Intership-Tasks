{
 "cells": [
  {
   "cell_type": "markdown",
   "id": "bac2ca38",
   "metadata": {},
   "source": [
    "# Task 4: Predicting Insurance Claim Amounts\n",
    "\n",
    "Objective: Estimate the medical insurance claim amount based on personal data.\n",
    "\n",
    "**Dataset:** Medical Cost Personal Dataset (synthetic replica generated for this notebook).\n",
    "\n",
    "**Instructions:**\n",
    "- Train a Linear Regression model to predict `charges`.\n",
    "- Visualize how BMI, age, and smoking status impact insurance charges.\n",
    "- Evaluate performance using MAE and RMSE.\n",
    "\n",
    "**Skills:** Regression modeling, feature correlation & visualization, error evaluation (MAE/RMSE)."
   ]
  },
  {
   "cell_type": "code",
   "execution_count": null,
   "id": "2b228a6e",
   "metadata": {},
   "outputs": [],
   "source": [
    "\n",
    "import pandas as pd\n",
    "import numpy as np\n",
    "import matplotlib.pyplot as plt\n",
    "\n",
    "from sklearn.model_selection import train_test_split\n",
    "from sklearn.linear_model import LinearRegression\n",
    "from sklearn.metrics import mean_absolute_error, mean_squared_error\n",
    "import math\n",
    "\n",
    "# Load dataset\n",
    "df = pd.read_csv(\"insurance.csv\")\n",
    "df.head()\n"
   ]
  },
  {
   "cell_type": "markdown",
   "id": "11aa1a28",
   "metadata": {},
   "source": [
    "## Basic EDA"
   ]
  },
  {
   "cell_type": "code",
   "execution_count": null,
   "id": "41d6954e",
   "metadata": {},
   "outputs": [],
   "source": [
    "\n",
    "df.info()\n"
   ]
  },
  {
   "cell_type": "code",
   "execution_count": null,
   "id": "8c72484b",
   "metadata": {},
   "outputs": [],
   "source": [
    "\n",
    "df.describe(include='all')\n"
   ]
  },
  {
   "cell_type": "markdown",
   "id": "5bff31b9",
   "metadata": {},
   "source": [
    "## One-Hot Encode Categorical Features"
   ]
  },
  {
   "cell_type": "code",
   "execution_count": null,
   "id": "98cd8597",
   "metadata": {},
   "outputs": [],
   "source": [
    "\n",
    "X = pd.get_dummies(df.drop(columns=[\"charges\"]), drop_first=True)\n",
    "y = df[\"charges\"]\n",
    "X.head()\n"
   ]
  },
  {
   "cell_type": "markdown",
   "id": "99e6fa3c",
   "metadata": {},
   "source": [
    "## Train/Test Split"
   ]
  },
  {
   "cell_type": "code",
   "execution_count": null,
   "id": "6031428e",
   "metadata": {},
   "outputs": [],
   "source": [
    "\n",
    "X_train, X_test, y_train, y_test = train_test_split(X, y, test_size=0.2, random_state=42)\n",
    "X_train.shape, X_test.shape\n"
   ]
  },
  {
   "cell_type": "markdown",
   "id": "cc4d5144",
   "metadata": {},
   "source": [
    "## Train Linear Regression"
   ]
  },
  {
   "cell_type": "code",
   "execution_count": null,
   "id": "bf51fb7a",
   "metadata": {},
   "outputs": [],
   "source": [
    "\n",
    "linreg = LinearRegression()\n",
    "linreg.fit(X_train, y_train)\n",
    "\n",
    "y_pred = linreg.predict(X_test)\n",
    "mae = mean_absolute_error(y_test, y_pred)\n",
    "rmse = math.sqrt(mean_squared_error(y_test, y_pred))\n",
    "\n",
    "print(f\"Test MAE:  {mae:,.2f}\")\n",
    "print(f\"Test RMSE: {rmse:,.2f}\")\n"
   ]
  },
  {
   "cell_type": "markdown",
   "id": "40259c1a",
   "metadata": {},
   "source": [
    "## Visualizations"
   ]
  },
  {
   "cell_type": "code",
   "execution_count": null,
   "id": "d7c1e640",
   "metadata": {},
   "outputs": [],
   "source": [
    "\n",
    "# Age vs Charges\n",
    "plt.figure()\n",
    "plt.scatter(X_test[\"age\"], y_test, alpha=0.6, label=\"Actual\")\n",
    "coef_age_only = np.polyfit(X_test[\"age\"], y_test, 1)\n",
    "x_line = np.linspace(X_test[\"age\"].min(), X_test[\"age\"].max(), 100)\n",
    "y_line = np.polyval(coef_age_only, x_line)\n",
    "plt.plot(x_line, y_line, linewidth=2, label=\"Trend\")\n",
    "plt.xlabel(\"Age\")\n",
    "plt.ylabel(\"Insurance Charges\")\n",
    "plt.title(\"Impact of Age on Charges\")\n",
    "plt.legend()\n",
    "plt.show()\n"
   ]
  },
  {
   "cell_type": "code",
   "execution_count": null,
   "id": "8c160ea5",
   "metadata": {},
   "outputs": [],
   "source": [
    "\n",
    "# BMI vs Charges\n",
    "plt.figure()\n",
    "plt.scatter(X_test[\"bmi\"], y_test, alpha=0.6)\n",
    "coef_bmi_only = np.polyfit(X_test[\"bmi\"], y_test, 1)\n",
    "x_line_bmi = np.linspace(X_test[\"bmi\"].min(), X_test[\"bmi\"].max(), 100)\n",
    "y_line_bmi = np.polyval(coef_bmi_only, x_line_bmi)\n",
    "plt.plot(x_line_bmi, y_line_bmi, linewidth=2)\n",
    "plt.xlabel(\"BMI\")\n",
    "plt.ylabel(\"Insurance Charges\")\n",
    "plt.title(\"Impact of BMI on Charges\")\n",
    "plt.show()\n"
   ]
  },
  {
   "cell_type": "code",
   "execution_count": null,
   "id": "493a90c8",
   "metadata": {},
   "outputs": [],
   "source": [
    "\n",
    "# Charges by Smoking Status\n",
    "plt.figure()\n",
    "data_no = y_test[X_test[\"smoker_yes\"] == 0]\n",
    "data_yes = y_test[X_test[\"smoker_yes\"] == 1]\n",
    "plt.boxplot([data_no, data_yes], labels=[\"non-smoker\", \"smoker\"], showfliers=False)\n",
    "plt.ylabel(\"Insurance Charges\")\n",
    "plt.title(\"Impact of Smoking on Charges\")\n",
    "plt.show()\n"
   ]
  },
  {
   "cell_type": "markdown",
   "id": "c55186b8",
   "metadata": {},
   "source": [
    "## Notes\n",
    "- These plots help visualize how age and BMI correlate with charges and how smokers typically incur higher charges.\n",
    "- The Linear Regression model is a baseline; consider trying regularization (Ridge/Lasso) or non-linear models for improvements."
   ]
  }
 ],
 "metadata": {},
 "nbformat": 4,
 "nbformat_minor": 5
}
